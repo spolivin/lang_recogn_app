{
 "cells": [
  {
   "cell_type": "markdown",
   "id": "e15f9144-3146-4b1e-836d-e80a5a157f09",
   "metadata": {},
   "source": [
    "# Importing \"Transformers\" pipeline"
   ]
  },
  {
   "cell_type": "code",
   "execution_count": 1,
   "id": "5d7426cd-8aa2-44ae-b2e3-e42b2441198b",
   "metadata": {},
   "outputs": [],
   "source": [
    "import numpy as np\n",
    "import pandas as pd\n",
    "from transformers import pipeline"
   ]
  },
  {
   "cell_type": "markdown",
   "id": "d7d28df4-98df-46e3-a233-150fba8a55fb",
   "metadata": {},
   "source": [
    "# Reading the texts"
   ]
  },
  {
   "cell_type": "code",
   "execution_count": 2,
   "id": "487fbc37-f06a-4363-9696-c3debc97cf37",
   "metadata": {},
   "outputs": [
    {
     "data": {
      "text/plain": [
       "['I would rrrrrreally like to know the language of this text',\n",
       " 'Ik zou blij zijn als ik wist wat deze taal is',\n",
       " 'Хотел бы я знать, что это за язык!',\n",
       " 'Jeg ville ønske, jeg vidste, hvilket sprog dette er!',\n",
       " 'Keşke bunun hangi dil olduğunu bilseydim!',\n",
       " 'Ich möchte die Sprache lernen, in der dieser Text geschrieben ist',\n",
       " \"Je n'ai jamais su ce fait\",\n",
       " 'Nunca supe este hecho',\n",
       " 'Sempre sonhei em visitar os Açores',\n",
       " 'Jag har alltid drömt om att besöka vikingarna',\n",
       " 'ನಾನು ಸಮುದ್ರವನ್ನು ಪ್ರೀತಿಸುತ್ತೇನೆ',\n",
       " 'لقد أحببت دائما السفر',\n",
       " 'Questa lingua è una delle più belle del mondo',\n",
       " 'இது மிகவும் சுவாரஸ்யமாக இருக்கிறது',\n",
       " 'यह बहुत मनोरंजक है',\n",
       " 'Θα ήταν ενδιαφέρον να μάθουμε περισσότερα για αυτό',\n",
       " 'ഇതാണ് സൗന്ദര്യം']"
      ]
     },
     "execution_count": 2,
     "metadata": {},
     "output_type": "execute_result"
    }
   ],
   "source": [
    "text_file_1 = open(\"test_texts_1.txt\", encoding=\"utf8\")\n",
    "test_texts_1 = text_file_1.read().splitlines()\n",
    "text_file_1.close()\n",
    "\n",
    "test_texts_1"
   ]
  },
  {
   "cell_type": "code",
   "execution_count": 3,
   "id": "efb6e75f-c04c-491d-a648-f3058e8b3ed1",
   "metadata": {},
   "outputs": [],
   "source": [
    "test_text_en = test_texts_1[0]\n",
    "test_text_nl = test_texts_1[1]\n",
    "test_text_ru = test_texts_1[2]\n",
    "test_text_dk = test_texts_1[3]\n",
    "test_text_tr = test_texts_1[4]\n",
    "test_text_ge = test_texts_1[5]\n",
    "test_text_fr = test_texts_1[6]\n",
    "test_text_sp = test_texts_1[7]\n",
    "test_text_pg = test_texts_1[8]\n",
    "test_text_sw = test_texts_1[9]\n",
    "test_text_kd = test_texts_1[10]\n",
    "test_text_ar = test_texts_1[11]\n",
    "test_text_it = test_texts_1[12]\n",
    "test_text_tl = test_texts_1[13]\n",
    "test_text_hd = test_texts_1[14]\n",
    "test_text_gk = test_texts_1[15]\n",
    "test_text_ml = test_texts_1[16]"
   ]
  },
  {
   "cell_type": "markdown",
   "id": "e3755be9-cbbd-4ef6-9245-eea35fb5fcac",
   "metadata": {},
   "source": [
    "# Downloading the model"
   ]
  },
  {
   "cell_type": "code",
   "execution_count": 4,
   "id": "fe4ab38b-bb02-4a74-9de5-dcb744477326",
   "metadata": {},
   "outputs": [],
   "source": [
    "lr_pipeline = pipeline(model=\"spolivin/lang-recogn-model\")"
   ]
  },
  {
   "cell_type": "markdown",
   "id": "8ae066a6-bb4d-4ec8-8da1-f20b7443c95d",
   "metadata": {},
   "source": [
    "# Function for results representation"
   ]
  },
  {
   "cell_type": "code",
   "execution_count": 5,
   "id": "5cd01bbb-6765-4d15-8350-74195199c68a",
   "metadata": {},
   "outputs": [],
   "source": [
    "def detect_language(text: str) -> None:\n",
    "    \"\"\"Outputs pipeline testing results on one text.\"\"\"\n",
    "    # Applying the pipeline\n",
    "    lr_results = lr_pipeline(text)[0]\n",
    "    language_predicted = lr_results[\"label\"]\n",
    "    language_proba = lr_results[\"score\"]\n",
    "    # Displaying the results\n",
    "    print(f\"Text: {text}\\n\")\n",
    "    print(f\"Language detected: {language_predicted.upper()}\")\n",
    "    print(f\"Probability of the text being written in {language_predicted} = {language_proba:.2%}\")"
   ]
  },
  {
   "cell_type": "markdown",
   "id": "6df0c687-33d0-44f1-8d52-df4bc52dc762",
   "metadata": {},
   "source": [
    "# Testing the pipeline (one text in one go)"
   ]
  },
  {
   "cell_type": "markdown",
   "id": "3a068d72-a6e9-404c-b654-a42055fa7990",
   "metadata": {},
   "source": [
    "## English language"
   ]
  },
  {
   "cell_type": "code",
   "execution_count": 6,
   "id": "48fb9a0f-e62e-4e2e-85e3-cb30fa6a6711",
   "metadata": {},
   "outputs": [
    {
     "name": "stdout",
     "output_type": "stream",
     "text": [
      "Text: I would rrrrrreally like to know the language of this text\n",
      "\n",
      "Language detected: ENGLISH\n",
      "Probability of the text being written in English = 97.95%\n"
     ]
    }
   ],
   "source": [
    "detect_language(text=test_text_en)"
   ]
  },
  {
   "cell_type": "markdown",
   "id": "0ee01407-7b73-4d7d-8a2d-8c75742acec5",
   "metadata": {},
   "source": [
    "## Dutch language"
   ]
  },
  {
   "cell_type": "code",
   "execution_count": 7,
   "id": "e808f85f-b90f-45db-a5be-bf8cc3b7e8df",
   "metadata": {},
   "outputs": [
    {
     "name": "stdout",
     "output_type": "stream",
     "text": [
      "Text: Ik zou blij zijn als ik wist wat deze taal is\n",
      "\n",
      "Language detected: DUTCH\n",
      "Probability of the text being written in Dutch = 96.92%\n"
     ]
    }
   ],
   "source": [
    "detect_language(text=test_text_nl)"
   ]
  },
  {
   "cell_type": "markdown",
   "id": "8d977904-d9bf-46e3-a4ec-c48ab860b179",
   "metadata": {},
   "source": [
    "## Russian language"
   ]
  },
  {
   "cell_type": "code",
   "execution_count": 8,
   "id": "da0ca42f-1d08-4a2a-9401-f19d2fcd322b",
   "metadata": {},
   "outputs": [
    {
     "name": "stdout",
     "output_type": "stream",
     "text": [
      "Text: Хотел бы я знать, что это за язык!\n",
      "\n",
      "Language detected: RUSSIAN\n",
      "Probability of the text being written in Russian = 96.31%\n"
     ]
    }
   ],
   "source": [
    "detect_language(text=test_text_ru)"
   ]
  },
  {
   "cell_type": "markdown",
   "id": "e81bc043-5105-4335-b64f-a55ab8285d71",
   "metadata": {},
   "source": [
    "## Danish language"
   ]
  },
  {
   "cell_type": "code",
   "execution_count": 9,
   "id": "c0170ab1-df0b-444b-a030-ce7e6071bf6d",
   "metadata": {},
   "outputs": [
    {
     "name": "stdout",
     "output_type": "stream",
     "text": [
      "Text: Jeg ville ønske, jeg vidste, hvilket sprog dette er!\n",
      "\n",
      "Language detected: DANISH\n",
      "Probability of the text being written in Danish = 95.21%\n"
     ]
    }
   ],
   "source": [
    "detect_language(text=test_text_dk)"
   ]
  },
  {
   "cell_type": "markdown",
   "id": "f133fc4a-b041-4d77-a060-c73e07e6bc7c",
   "metadata": {},
   "source": [
    "## Turkish language"
   ]
  },
  {
   "cell_type": "code",
   "execution_count": 10,
   "id": "ef2ba143-dbbb-4eed-83e0-040b2cf813ef",
   "metadata": {},
   "outputs": [
    {
     "name": "stdout",
     "output_type": "stream",
     "text": [
      "Text: Keşke bunun hangi dil olduğunu bilseydim!\n",
      "\n",
      "Language detected: TURKISH\n",
      "Probability of the text being written in Turkish = 95.39%\n"
     ]
    }
   ],
   "source": [
    "detect_language(text=test_text_tr)"
   ]
  },
  {
   "cell_type": "markdown",
   "id": "34700bd5-c47c-45aa-bfac-e646c415ec89",
   "metadata": {},
   "source": [
    "## German language"
   ]
  },
  {
   "cell_type": "code",
   "execution_count": 11,
   "id": "16ee72b2-fe6d-4ce1-b8fa-047004c58210",
   "metadata": {},
   "outputs": [
    {
     "name": "stdout",
     "output_type": "stream",
     "text": [
      "Text: Ich möchte die Sprache lernen, in der dieser Text geschrieben ist\n",
      "\n",
      "Language detected: GERMAN\n",
      "Probability of the text being written in German = 95.25%\n"
     ]
    }
   ],
   "source": [
    "detect_language(text=test_text_ge)"
   ]
  },
  {
   "cell_type": "markdown",
   "id": "050de97c-933f-46e8-8eaf-f9a206d5e101",
   "metadata": {},
   "source": [
    "## French language"
   ]
  },
  {
   "cell_type": "code",
   "execution_count": 12,
   "id": "d4ee3b2c-e543-4d9e-a62d-c2469fcdc184",
   "metadata": {},
   "outputs": [
    {
     "name": "stdout",
     "output_type": "stream",
     "text": [
      "Text: Je n'ai jamais su ce fait\n",
      "\n",
      "Language detected: FRENCH\n",
      "Probability of the text being written in French = 97.09%\n"
     ]
    }
   ],
   "source": [
    "detect_language(text=test_text_fr)"
   ]
  },
  {
   "cell_type": "markdown",
   "id": "529fda3c-7ef1-4d39-9ede-8bd9ad5e5cce",
   "metadata": {},
   "source": [
    "## Spanish language"
   ]
  },
  {
   "cell_type": "code",
   "execution_count": 13,
   "id": "818758ac-c6c4-4472-809d-f971bd2b1b4e",
   "metadata": {},
   "outputs": [
    {
     "name": "stdout",
     "output_type": "stream",
     "text": [
      "Text: Nunca supe este hecho\n",
      "\n",
      "Language detected: SPANISH\n",
      "Probability of the text being written in Spanish = 95.61%\n"
     ]
    }
   ],
   "source": [
    "detect_language(text=test_text_sp)"
   ]
  },
  {
   "cell_type": "markdown",
   "id": "39a6a66a-01ba-4ba1-816d-8a4a4de82042",
   "metadata": {},
   "source": [
    "## Portugeese language"
   ]
  },
  {
   "cell_type": "code",
   "execution_count": 14,
   "id": "1971dadb-29a7-4ad3-82d6-e017817b2970",
   "metadata": {},
   "outputs": [
    {
     "name": "stdout",
     "output_type": "stream",
     "text": [
      "Text: Sempre sonhei em visitar os Açores\n",
      "\n",
      "Language detected: PORTUGEESE\n",
      "Probability of the text being written in Portugeese = 97.56%\n"
     ]
    }
   ],
   "source": [
    "detect_language(text=test_text_pg)"
   ]
  },
  {
   "cell_type": "markdown",
   "id": "fa96801a-9574-445a-8d61-af3eb3aa3674",
   "metadata": {},
   "source": [
    "## Sweedish language"
   ]
  },
  {
   "cell_type": "code",
   "execution_count": 15,
   "id": "abaea537-3201-46cf-9616-2f6e59b14bf4",
   "metadata": {},
   "outputs": [
    {
     "name": "stdout",
     "output_type": "stream",
     "text": [
      "Text: Jag har alltid drömt om att besöka vikingarna\n",
      "\n",
      "Language detected: SWEEDISH\n",
      "Probability of the text being written in Sweedish = 95.17%\n"
     ]
    }
   ],
   "source": [
    "detect_language(text=test_text_sw)"
   ]
  },
  {
   "cell_type": "markdown",
   "id": "79ac4c60-62ce-44bd-8595-f7b2d1b0f4bc",
   "metadata": {},
   "source": [
    "## Kannada language"
   ]
  },
  {
   "cell_type": "code",
   "execution_count": 16,
   "id": "8eca7a5c-0d9f-4934-b31a-5a432828da6b",
   "metadata": {},
   "outputs": [
    {
     "name": "stdout",
     "output_type": "stream",
     "text": [
      "Text: ನಾನು ಸಮುದ್ರವನ್ನು ಪ್ರೀತಿಸುತ್ತೇನೆ\n",
      "\n",
      "Language detected: KANNADA\n",
      "Probability of the text being written in Kannada = 96.01%\n"
     ]
    }
   ],
   "source": [
    "detect_language(text=test_text_kd)"
   ]
  },
  {
   "cell_type": "markdown",
   "id": "f2f36901-2354-4e54-800e-d93fd1a589c7",
   "metadata": {},
   "source": [
    "## Arabic language"
   ]
  },
  {
   "cell_type": "code",
   "execution_count": 17,
   "id": "e70de39a-9637-4d79-9a4a-20f808bef62c",
   "metadata": {},
   "outputs": [
    {
     "name": "stdout",
     "output_type": "stream",
     "text": [
      "Text: لقد أحببت دائما السفر\n",
      "\n",
      "Language detected: ARABIC\n",
      "Probability of the text being written in Arabic = 97.11%\n"
     ]
    }
   ],
   "source": [
    "detect_language(text=test_text_ar)"
   ]
  },
  {
   "cell_type": "markdown",
   "id": "6167e547-e7b7-4ab4-830d-c7ea83f7f437",
   "metadata": {},
   "source": [
    "## Italian language"
   ]
  },
  {
   "cell_type": "code",
   "execution_count": 18,
   "id": "04b24528-6120-46a2-abe8-4a27b7260193",
   "metadata": {},
   "outputs": [
    {
     "name": "stdout",
     "output_type": "stream",
     "text": [
      "Text: Questa lingua è una delle più belle del mondo\n",
      "\n",
      "Language detected: ITALIAN\n",
      "Probability of the text being written in Italian = 96.83%\n"
     ]
    }
   ],
   "source": [
    "detect_language(text=test_text_it)"
   ]
  },
  {
   "cell_type": "markdown",
   "id": "a424361d-f4da-43fa-982f-830071fbb1f9",
   "metadata": {},
   "source": [
    "## Tamil language"
   ]
  },
  {
   "cell_type": "code",
   "execution_count": 19,
   "id": "d5a682b2-bfc2-44c5-9f75-311262600470",
   "metadata": {},
   "outputs": [
    {
     "name": "stdout",
     "output_type": "stream",
     "text": [
      "Text: இது மிகவும் சுவாரஸ்யமாக இருக்கிறது\n",
      "\n",
      "Language detected: TAMIL\n",
      "Probability of the text being written in Tamil = 95.37%\n"
     ]
    }
   ],
   "source": [
    "detect_language(text=test_text_tl)"
   ]
  },
  {
   "cell_type": "markdown",
   "id": "695550aa-9a80-4340-b18e-11807a668b9c",
   "metadata": {},
   "source": [
    "## Hindi language"
   ]
  },
  {
   "cell_type": "code",
   "execution_count": 20,
   "id": "0236bdc9-366c-4db4-a73b-563b23c06657",
   "metadata": {},
   "outputs": [
    {
     "name": "stdout",
     "output_type": "stream",
     "text": [
      "Text: यह बहुत मनोरंजक है\n",
      "\n",
      "Language detected: HINDI\n",
      "Probability of the text being written in Hindi = 81.75%\n"
     ]
    }
   ],
   "source": [
    "detect_language(text=test_text_hd)"
   ]
  },
  {
   "cell_type": "markdown",
   "id": "af0532c6-c630-4198-a5c4-74357b91e968",
   "metadata": {},
   "source": [
    "## Greek language"
   ]
  },
  {
   "cell_type": "code",
   "execution_count": 21,
   "id": "ab8a8cd8-ad28-4d90-a0fd-4e90742093c1",
   "metadata": {},
   "outputs": [
    {
     "name": "stdout",
     "output_type": "stream",
     "text": [
      "Text: Θα ήταν ενδιαφέρον να μάθουμε περισσότερα για αυτό\n",
      "\n",
      "Language detected: GREEK\n",
      "Probability of the text being written in Greek = 96.12%\n"
     ]
    }
   ],
   "source": [
    "detect_language(text=test_text_gk)"
   ]
  },
  {
   "cell_type": "markdown",
   "id": "4c3b88be-fcd3-41b2-8703-b4ba2c4f8e51",
   "metadata": {},
   "source": [
    "## Malayam language"
   ]
  },
  {
   "cell_type": "code",
   "execution_count": 22,
   "id": "b77f94f6-aec8-4286-a8a7-4daaa08e0d94",
   "metadata": {},
   "outputs": [
    {
     "name": "stdout",
     "output_type": "stream",
     "text": [
      "Text: ഇതാണ് സൗന്ദര്യം\n",
      "\n",
      "Language detected: MALAYALAM\n",
      "Probability of the text being written in Malayalam = 96.12%\n"
     ]
    }
   ],
   "source": [
    "detect_language(text=test_text_ml)"
   ]
  },
  {
   "cell_type": "markdown",
   "id": "39b41e01-10df-496b-95f6-6ebe5287c6ee",
   "metadata": {},
   "source": [
    "# Testing the pipeline (lots of texts at once)"
   ]
  },
  {
   "cell_type": "code",
   "execution_count": 23,
   "id": "1b0a34f5-2614-459e-b860-4bbf976da07f",
   "metadata": {},
   "outputs": [
    {
     "data": {
      "text/html": [
       "<div>\n",
       "<style scoped>\n",
       "    .dataframe tbody tr th:only-of-type {\n",
       "        vertical-align: middle;\n",
       "    }\n",
       "\n",
       "    .dataframe tbody tr th {\n",
       "        vertical-align: top;\n",
       "    }\n",
       "\n",
       "    .dataframe thead th {\n",
       "        text-align: right;\n",
       "    }\n",
       "</style>\n",
       "<table border=\"1\" class=\"dataframe\">\n",
       "  <thead>\n",
       "    <tr style=\"text-align: right;\">\n",
       "      <th></th>\n",
       "      <th>test_text</th>\n",
       "      <th>language</th>\n",
       "      <th>probability</th>\n",
       "    </tr>\n",
       "  </thead>\n",
       "  <tbody>\n",
       "    <tr>\n",
       "      <th>0</th>\n",
       "      <td>Quite a conundrum you have here</td>\n",
       "      <td>English</td>\n",
       "      <td>0.9784</td>\n",
       "    </tr>\n",
       "    <tr>\n",
       "      <th>1</th>\n",
       "      <td>Откуда нам было знать</td>\n",
       "      <td>Russian</td>\n",
       "      <td>0.9651</td>\n",
       "    </tr>\n",
       "    <tr>\n",
       "      <th>2</th>\n",
       "      <td>Eu gostaria de reservar um quarto, por favor</td>\n",
       "      <td>Portugeese</td>\n",
       "      <td>0.9776</td>\n",
       "    </tr>\n",
       "    <tr>\n",
       "      <th>3</th>\n",
       "      <td>Hooplijk schrift zij niets negatiefs in haar r...</td>\n",
       "      <td>Dutch</td>\n",
       "      <td>0.9694</td>\n",
       "    </tr>\n",
       "    <tr>\n",
       "      <th>4</th>\n",
       "      <td>Hvor er der en pengeautomat?</td>\n",
       "      <td>Danish</td>\n",
       "      <td>0.9523</td>\n",
       "    </tr>\n",
       "    <tr>\n",
       "      <th>5</th>\n",
       "      <td>Καλά, ευχαριστώ, Χάρηκα</td>\n",
       "      <td>Greek</td>\n",
       "      <td>0.9617</td>\n",
       "    </tr>\n",
       "    <tr>\n",
       "      <th>6</th>\n",
       "      <td>Tünaydın!</td>\n",
       "      <td>Turkish</td>\n",
       "      <td>0.9517</td>\n",
       "    </tr>\n",
       "    <tr>\n",
       "      <th>7</th>\n",
       "      <td>Weisst was ich meine?</td>\n",
       "      <td>German</td>\n",
       "      <td>0.9145</td>\n",
       "    </tr>\n",
       "    <tr>\n",
       "      <th>8</th>\n",
       "      <td>Interesting! I will look it up!</td>\n",
       "      <td>English</td>\n",
       "      <td>0.9808</td>\n",
       "    </tr>\n",
       "  </tbody>\n",
       "</table>\n",
       "</div>"
      ],
      "text/plain": [
       "                                           test_text    language  probability\n",
       "0                    Quite a conundrum you have here     English       0.9784\n",
       "1                              Откуда нам было знать     Russian       0.9651\n",
       "2       Eu gostaria de reservar um quarto, por favor  Portugeese       0.9776\n",
       "3  Hooplijk schrift zij niets negatiefs in haar r...       Dutch       0.9694\n",
       "4                       Hvor er der en pengeautomat?      Danish       0.9523\n",
       "5                            Καλά, ευχαριστώ, Χάρηκα       Greek       0.9617\n",
       "6                                          Tünaydın!     Turkish       0.9517\n",
       "7                              Weisst was ich meine?      German       0.9145\n",
       "8                    Interesting! I will look it up!     English       0.9808"
      ]
     },
     "execution_count": 23,
     "metadata": {},
     "output_type": "execute_result"
    }
   ],
   "source": [
    "text_file_2 = open(\"test_texts_2.txt\", encoding=\"utf8\")\n",
    "test_texts_2 = text_file_2.read().splitlines()\n",
    "text_file_2.close()\n",
    "\n",
    "# Applying the pipeline on all test texts\n",
    "multiple_texts_results = lr_pipeline(test_texts_2)\n",
    "\n",
    "# Outputting the results as DataFrame\n",
    "multiple_texts_df = pd.DataFrame(multiple_texts_results)\n",
    "multiple_texts_df[\"test_text\"] = test_texts_2\n",
    "multiple_texts_df[\"language\"] = multiple_texts_df[\"label\"].copy()\n",
    "multiple_texts_df[\"probability\"] = np.round(multiple_texts_df[\"score\"].copy(), 4)\n",
    "\n",
    "# Rearranging the columns\n",
    "multiple_texts_df[[\"test_text\", \"language\", \"probability\"]]"
   ]
  }
 ],
 "metadata": {
  "kernelspec": {
   "display_name": "Python 3 (ipykernel)",
   "language": "python",
   "name": "python3"
  },
  "language_info": {
   "codemirror_mode": {
    "name": "ipython",
    "version": 3
   },
   "file_extension": ".py",
   "mimetype": "text/x-python",
   "name": "python",
   "nbconvert_exporter": "python",
   "pygments_lexer": "ipython3",
   "version": "3.9.13"
  }
 },
 "nbformat": 4,
 "nbformat_minor": 5
}
